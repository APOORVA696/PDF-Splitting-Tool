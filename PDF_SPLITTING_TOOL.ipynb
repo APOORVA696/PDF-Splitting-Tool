{
 "cells": [
  {
   "cell_type": "code",
   "execution_count": 4,
   "id": "165a66c2",
   "metadata": {},
   "outputs": [],
   "source": [
    "import os\n",
    "from PyPDF2 import PdfFileReader,PdfFileWriter\n",
    "\n",
    "pdf_file_path=\"\" #Give the file path where the pdf to be split is stored\n",
    "file_base_name=pdf_file_path.replace('.pdf','')\n",
    "output_folder_path=os.path.join(os.getcwd(),'Output')\n",
    "\n",
    "pdf=PdfFileReader(pdf_file_path)\n",
    "\n",
    "for page_num in range(pdf.numPages):\n",
    "    pdfWriter=PdfFileWriter()\n",
    "    pdfWriter.addPage(pdf.getPage(page_num))\n",
    "    \n",
    "    with open(os.path.join(output_folder_path,'{0}_Page{1}.pdf'.format(file_base_name, page_num+1)),'wb') as f:\n",
    "        pdfWriter.write(f)\n",
    "        f.close()"
   ]
  }
 ],
 "metadata": {
  "kernelspec": {
   "display_name": "Python 3 (ipykernel)",
   "language": "python",
   "name": "python3"
  },
  "language_info": {
   "codemirror_mode": {
    "name": "ipython",
    "version": 3
   },
   "file_extension": ".py",
   "mimetype": "text/x-python",
   "name": "python",
   "nbconvert_exporter": "python",
   "pygments_lexer": "ipython3",
   "version": "3.9.12"
  }
 },
 "nbformat": 4,
 "nbformat_minor": 5
}
